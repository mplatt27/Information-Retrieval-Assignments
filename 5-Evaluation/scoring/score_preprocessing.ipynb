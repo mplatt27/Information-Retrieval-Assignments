{
 "cells": [
  {
   "cell_type": "code",
   "execution_count": null,
   "metadata": {},
   "outputs": [],
   "source": [
    "\"\"\"\n",
    "  This code is used to read in the relevance scores and create a qrel file in the format needed for trec eval. \n",
    "\"\"\""
   ]
  },
  {
   "cell_type": "code",
   "execution_count": 1,
   "metadata": {},
   "outputs": [],
   "source": [
    "import operator\n",
    "import os\n",
    "import pandas as pd"
   ]
  },
  {
   "cell_type": "code",
   "execution_count": 3,
   "metadata": {},
   "outputs": [
    {
     "data": {
      "text/html": [
       "<div>\n",
       "<style scoped>\n",
       "    .dataframe tbody tr th:only-of-type {\n",
       "        vertical-align: middle;\n",
       "    }\n",
       "\n",
       "    .dataframe tbody tr th {\n",
       "        vertical-align: top;\n",
       "    }\n",
       "\n",
       "    .dataframe thead th {\n",
       "        text-align: right;\n",
       "    }\n",
       "</style>\n",
       "<table border=\"1\" class=\"dataframe\">\n",
       "  <thead>\n",
       "    <tr style=\"text-align: right;\">\n",
       "      <th></th>\n",
       "      <th>query_no</th>\n",
       "      <th>query</th>\n",
       "      <th>author</th>\n",
       "      <th>doc_no</th>\n",
       "      <th>Melanie</th>\n",
       "      <th>Manushi</th>\n",
       "      <th>Nidhi</th>\n",
       "      <th>Final</th>\n",
       "    </tr>\n",
       "  </thead>\n",
       "  <tbody>\n",
       "    <tr>\n",
       "      <th>0</th>\n",
       "      <td>151801</td>\n",
       "      <td>what caused world war 2</td>\n",
       "      <td>Melanie</td>\n",
       "      <td>https://en.wikipedia.org/wiki/Centre_for_the_S...</td>\n",
       "      <td>2</td>\n",
       "      <td>2</td>\n",
       "      <td>1</td>\n",
       "      <td>2</td>\n",
       "    </tr>\n",
       "    <tr>\n",
       "      <th>1</th>\n",
       "      <td>151801</td>\n",
       "      <td>what caused world war 2</td>\n",
       "      <td>Melanie</td>\n",
       "      <td>https://en.wikipedia.org/wiki/Germany%27s_Aims...</td>\n",
       "      <td>0</td>\n",
       "      <td>2</td>\n",
       "      <td>0</td>\n",
       "      <td>2</td>\n",
       "    </tr>\n",
       "    <tr>\n",
       "      <th>2</th>\n",
       "      <td>151801</td>\n",
       "      <td>what caused world war 2</td>\n",
       "      <td>Melanie</td>\n",
       "      <td>http://en.wikipedia.org/wiki/List_of_recession...</td>\n",
       "      <td>0</td>\n",
       "      <td>0</td>\n",
       "      <td>0</td>\n",
       "      <td>0</td>\n",
       "    </tr>\n",
       "    <tr>\n",
       "      <th>3</th>\n",
       "      <td>151801</td>\n",
       "      <td>what caused world war 2</td>\n",
       "      <td>Melanie</td>\n",
       "      <td>https://en.wikipedia.org/wiki/Chemical_weapons...</td>\n",
       "      <td>0</td>\n",
       "      <td>0</td>\n",
       "      <td>0</td>\n",
       "      <td>0</td>\n",
       "    </tr>\n",
       "    <tr>\n",
       "      <th>4</th>\n",
       "      <td>151801</td>\n",
       "      <td>what caused world war 2</td>\n",
       "      <td>Melanie</td>\n",
       "      <td>https://en.wikipedia.org/wiki/Use_of_poison_ga...</td>\n",
       "      <td>0</td>\n",
       "      <td>0</td>\n",
       "      <td>0</td>\n",
       "      <td>0</td>\n",
       "    </tr>\n",
       "  </tbody>\n",
       "</table>\n",
       "</div>"
      ],
      "text/plain": [
       "   query_no                    query   author  \\\n",
       "0    151801  what caused world war 2  Melanie   \n",
       "1    151801  what caused world war 2  Melanie   \n",
       "2    151801  what caused world war 2  Melanie   \n",
       "3    151801  what caused world war 2  Melanie   \n",
       "4    151801  what caused world war 2  Melanie   \n",
       "\n",
       "                                              doc_no  Melanie  Manushi  Nidhi  \\\n",
       "0  https://en.wikipedia.org/wiki/Centre_for_the_S...        2        2      1   \n",
       "1  https://en.wikipedia.org/wiki/Germany%27s_Aims...        0        2      0   \n",
       "2  http://en.wikipedia.org/wiki/List_of_recession...        0        0      0   \n",
       "3  https://en.wikipedia.org/wiki/Chemical_weapons...        0        0      0   \n",
       "4  https://en.wikipedia.org/wiki/Use_of_poison_ga...        0        0      0   \n",
       "\n",
       "   Final  \n",
       "0      2  \n",
       "1      2  \n",
       "2      0  \n",
       "3      0  \n",
       "4      0  "
      ]
     },
     "execution_count": 3,
     "metadata": {},
     "output_type": "execute_result"
    }
   ],
   "source": [
    "# read in es results from csv\n",
    "manual_scoring = pd.read_csv(\"C:/6200-IR/homwork-5-mplatt27/scoring/relevance_scores_final.csv\")\n",
    "manual_scoring.head()"
   ]
  },
  {
   "cell_type": "code",
   "execution_count": 7,
   "metadata": {},
   "outputs": [],
   "source": [
    "def write_qrel_file(file_name):\n",
    "    if os.path.exists(file_name):\n",
    "        os.remove(file_name)\n",
    "    output = open(file_name, \"w\")\n",
    "\n",
    "    for i in range(len(manual_scoring)):\n",
    "        new_line = str(manual_scoring.loc[i, \"query_no\"]) + \" \" + str(manual_scoring.loc[i, \"author\"]) + \" \" + str(manual_scoring.loc[i, \"doc_no\"]) + \" \" + str(manual_scoring.loc[i, \"Final\"]) + \"\\n\"\n",
    "        output.write(new_line)\n",
    "        \n",
    "    output.close()\n",
    "    \n",
    "write_qrel_file(\"C:/6200-IR/homwork-5-mplatt27/scoring/qrel_wwii_corpus.txt\")"
   ]
  },
  {
   "cell_type": "code",
   "execution_count": null,
   "metadata": {},
   "outputs": [],
   "source": []
  }
 ],
 "metadata": {
  "kernelspec": {
   "display_name": "Python 3",
   "language": "python",
   "name": "python3"
  },
  "language_info": {
   "codemirror_mode": {
    "name": "ipython",
    "version": 3
   },
   "file_extension": ".py",
   "mimetype": "text/x-python",
   "name": "python",
   "nbconvert_exporter": "python",
   "pygments_lexer": "ipython3",
   "version": "3.8.5"
  }
 },
 "nbformat": 4,
 "nbformat_minor": 4
}
